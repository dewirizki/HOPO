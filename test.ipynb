{
 "cells": [
  {
   "cell_type": "code",
   "execution_count": 18,
   "metadata": {},
   "outputs": [],
   "source": [
    "from flask import Flask, request, jsonify,render_template\n",
    "import requests\n",
    "import apikey\n",
    "import secrets\n",
    "from flask_cors import CORS, cross_origin\n",
    "import pandas as pd\n",
    "from sklearn.cluster import MiniBatchKMeans\n",
    "from telegram.bot import Bot\n",
    "import telegram\n",
    "import numpy as np\n",
    "from telebot.credentials import bot_token, bot_user_name, URL\n",
    "from telebot.mastermind import get_response"
   ]
  },
  {
   "cell_type": "code",
   "execution_count": 19,
   "metadata": {},
   "outputs": [],
   "source": [
    "app = Flask(__name__)\n",
    "CORS(app, support_credentials=True)\n",
    "app.config[\"DEBUG\"] = True\n",
    "secret_key = secrets.token_urlsafe(16)"
   ]
  },
  {
   "cell_type": "code",
   "execution_count": 22,
   "metadata": {},
   "outputs": [
    {
     "ename": "AssertionError",
     "evalue": "View function mapping is overwriting an existing endpoint function: hello_world",
     "output_type": "error",
     "traceback": [
      "\u001b[1;31m---------------------------------------------------------------------------\u001b[0m",
      "\u001b[1;31mAssertionError\u001b[0m                            Traceback (most recent call last)",
      "\u001b[1;32mC:\\Users\\ASUS~1.LAP\\AppData\\Local\\Temp/ipykernel_29996/447858336.py\u001b[0m in \u001b[0;36m<module>\u001b[1;34m\u001b[0m\n\u001b[0;32m     34\u001b[0m \u001b[1;33m\u001b[0m\u001b[0m\n\u001b[0;32m     35\u001b[0m \u001b[1;33m\u001b[0m\u001b[0m\n\u001b[1;32m---> 36\u001b[1;33m \u001b[1;33m@\u001b[0m\u001b[0mapp\u001b[0m\u001b[1;33m.\u001b[0m\u001b[0mroute\u001b[0m\u001b[1;33m(\u001b[0m\u001b[1;34m'/'\u001b[0m\u001b[1;33m)\u001b[0m\u001b[1;33m\u001b[0m\u001b[1;33m\u001b[0m\u001b[0m\n\u001b[0m\u001b[0;32m     37\u001b[0m \u001b[1;32mdef\u001b[0m \u001b[0mhello_world\u001b[0m\u001b[1;33m(\u001b[0m\u001b[1;33m)\u001b[0m\u001b[1;33m:\u001b[0m\u001b[1;33m\u001b[0m\u001b[1;33m\u001b[0m\u001b[0m\n\u001b[0;32m     38\u001b[0m \u001b[1;33m\u001b[0m\u001b[0m\n",
      "\u001b[1;32mc:\\Users\\Dewi\\anaconda3\\envs\\learn\\lib\\site-packages\\flask\\app.py\u001b[0m in \u001b[0;36mdecorator\u001b[1;34m(f)\u001b[0m\n\u001b[0;32m   1313\u001b[0m         \u001b[1;32mdef\u001b[0m \u001b[0mdecorator\u001b[0m\u001b[1;33m(\u001b[0m\u001b[0mf\u001b[0m\u001b[1;33m)\u001b[0m\u001b[1;33m:\u001b[0m\u001b[1;33m\u001b[0m\u001b[1;33m\u001b[0m\u001b[0m\n\u001b[0;32m   1314\u001b[0m             \u001b[0mendpoint\u001b[0m \u001b[1;33m=\u001b[0m \u001b[0moptions\u001b[0m\u001b[1;33m.\u001b[0m\u001b[0mpop\u001b[0m\u001b[1;33m(\u001b[0m\u001b[1;34m\"endpoint\"\u001b[0m\u001b[1;33m,\u001b[0m \u001b[1;32mNone\u001b[0m\u001b[1;33m)\u001b[0m\u001b[1;33m\u001b[0m\u001b[1;33m\u001b[0m\u001b[0m\n\u001b[1;32m-> 1315\u001b[1;33m             \u001b[0mself\u001b[0m\u001b[1;33m.\u001b[0m\u001b[0madd_url_rule\u001b[0m\u001b[1;33m(\u001b[0m\u001b[0mrule\u001b[0m\u001b[1;33m,\u001b[0m \u001b[0mendpoint\u001b[0m\u001b[1;33m,\u001b[0m \u001b[0mf\u001b[0m\u001b[1;33m,\u001b[0m \u001b[1;33m**\u001b[0m\u001b[0moptions\u001b[0m\u001b[1;33m)\u001b[0m\u001b[1;33m\u001b[0m\u001b[1;33m\u001b[0m\u001b[0m\n\u001b[0m\u001b[0;32m   1316\u001b[0m             \u001b[1;32mreturn\u001b[0m \u001b[0mf\u001b[0m\u001b[1;33m\u001b[0m\u001b[1;33m\u001b[0m\u001b[0m\n\u001b[0;32m   1317\u001b[0m \u001b[1;33m\u001b[0m\u001b[0m\n",
      "\u001b[1;32mc:\\Users\\Dewi\\anaconda3\\envs\\learn\\lib\\site-packages\\flask\\app.py\u001b[0m in \u001b[0;36mwrapper_func\u001b[1;34m(self, *args, **kwargs)\u001b[0m\n\u001b[0;32m     96\u001b[0m                 \u001b[1;34m\"before the application starts serving requests.\"\u001b[0m\u001b[1;33m\u001b[0m\u001b[1;33m\u001b[0m\u001b[0m\n\u001b[0;32m     97\u001b[0m             )\n\u001b[1;32m---> 98\u001b[1;33m         \u001b[1;32mreturn\u001b[0m \u001b[0mf\u001b[0m\u001b[1;33m(\u001b[0m\u001b[0mself\u001b[0m\u001b[1;33m,\u001b[0m \u001b[1;33m*\u001b[0m\u001b[0margs\u001b[0m\u001b[1;33m,\u001b[0m \u001b[1;33m**\u001b[0m\u001b[0mkwargs\u001b[0m\u001b[1;33m)\u001b[0m\u001b[1;33m\u001b[0m\u001b[1;33m\u001b[0m\u001b[0m\n\u001b[0m\u001b[0;32m     99\u001b[0m \u001b[1;33m\u001b[0m\u001b[0m\n\u001b[0;32m    100\u001b[0m     \u001b[1;32mreturn\u001b[0m \u001b[0mupdate_wrapper\u001b[0m\u001b[1;33m(\u001b[0m\u001b[0mwrapper_func\u001b[0m\u001b[1;33m,\u001b[0m \u001b[0mf\u001b[0m\u001b[1;33m)\u001b[0m\u001b[1;33m\u001b[0m\u001b[1;33m\u001b[0m\u001b[0m\n",
      "\u001b[1;32mc:\\Users\\Dewi\\anaconda3\\envs\\learn\\lib\\site-packages\\flask\\app.py\u001b[0m in \u001b[0;36madd_url_rule\u001b[1;34m(self, rule, endpoint, view_func, provide_automatic_options, **options)\u001b[0m\n\u001b[0;32m   1282\u001b[0m                 raise AssertionError(\n\u001b[0;32m   1283\u001b[0m                     \u001b[1;34m\"View function mapping is overwriting an \"\u001b[0m\u001b[1;33m\u001b[0m\u001b[1;33m\u001b[0m\u001b[0m\n\u001b[1;32m-> 1284\u001b[1;33m                     \u001b[1;34m\"existing endpoint function: %s\"\u001b[0m \u001b[1;33m%\u001b[0m \u001b[0mendpoint\u001b[0m\u001b[1;33m\u001b[0m\u001b[1;33m\u001b[0m\u001b[0m\n\u001b[0m\u001b[0;32m   1285\u001b[0m                 )\n\u001b[0;32m   1286\u001b[0m             \u001b[0mself\u001b[0m\u001b[1;33m.\u001b[0m\u001b[0mview_functions\u001b[0m\u001b[1;33m[\u001b[0m\u001b[0mendpoint\u001b[0m\u001b[1;33m]\u001b[0m \u001b[1;33m=\u001b[0m \u001b[0mview_func\u001b[0m\u001b[1;33m\u001b[0m\u001b[1;33m\u001b[0m\u001b[0m\n",
      "\u001b[1;31mAssertionError\u001b[0m: View function mapping is overwriting an existing endpoint function: hello_world"
     ]
    }
   ],
   "source": [
    "global bot\n",
    "global TOKEN\n",
    "TOKEN = bot_token\n",
    "bot = Bot(token=TOKEN)\n",
    "\n",
    "\n",
    "def get_location_attributes(location):\n",
    "    response = requests.get(\n",
    "        f'https://geocoder.ls.hereapi.com/6.2/geocode.json?searchtext={location}&gen=9&apiKey={secret_key}')\n",
    "    if response.status_code == 200:\n",
    "        if len(response.json()['Response']['View']) != 0:\n",
    "            return response.json()\n",
    "        else:\n",
    "            return 'No such location found'\n",
    "    else:\n",
    "        return 'Something went wrong'\n",
    "\n",
    "\n",
    "def fit_and_inference(dataframe, number_of_days):\n",
    "    if len(dataframe) > number_of_days:\n",
    "        model = MiniBatchKMeans(n_clusters=number_of_days, random_state=42, init='k-means++')\n",
    "        df = dataframe[['latitude', 'longitude']]\n",
    "        df_matrix = df.values\n",
    "        model.fit(df_matrix)\n",
    "        predicted_labels = model.predict(df_matrix)\n",
    "    \n",
    "    elif number_of_days == 2:\n",
    "        predicted_labels = np.array([0] * len(dataframe))\n",
    "\n",
    "    else:\n",
    "        predicted_labels = np.array([i for i in range(len(dataframe))])\n",
    "\n",
    "    return predicted_labels + 1\n",
    "\n",
    "\n",
    "@app.route('/')\n",
    "def hello_world():\n",
    "    return render_template(\"index.html\")\n",
    "\n",
    "\n",
    "@app.route('/generate', methods=['POST'])\n",
    "def generate_itinerary():\n",
    "    response_final = get_location_attributes(request.form.get('location'))\n",
    "    print(request.form.get(\"location\"))\n",
    "    number_of_days = int(request.form.get('days'))\n",
    "    if type(response_final) != type(dict({})):\n",
    "        return jsonify([response_final])\n",
    "    else:\n",
    "        coordinate_dict = response_final['Response']['View'][0]['Result'][0]['Location'][\"NavigationPosition\"][0]\n",
    "        latitude, longitude = coordinate_dict['Latitude'], coordinate_dict['Longitude']\n",
    "        location_response = requests.get(\n",
    "            f'https://places.ls.hereapi.com/places/v1/discover/search?at={latitude},{longitude}&r=100000&q=Landmark/Attraction&apiKey={secret_key}')\n",
    "        if location_response.status_code == 200:\n",
    "            if len(location_response.json()['results']['items']) > 0:\n",
    "                tourist_data = location_response.json()\n",
    "                tourist_dict = {'title': [], 'latitude': [], 'longitude': []}\n",
    "                for i in range(len(tourist_data['results']['items'])):\n",
    "                    tourist_dict['title'].append(tourist_data['results']['items'][i]['title'])\n",
    "                    tourist_dict['latitude'].append(tourist_data['results']['items'][i]['position'][0])\n",
    "                    tourist_dict['longitude'].append(tourist_data['results']['items'][i]['position'][1])\n",
    "\n",
    "                tourist_df = pd.DataFrame(tourist_dict)\n",
    "                day_of_travel = fit_and_inference(tourist_df, number_of_days)\n",
    "                tourist_df['day_of_travel'] = day_of_travel\n",
    "\n",
    "                return {'title': list(tourist_df['title']), 'latitude': list(tourist_df['latitude']),\n",
    "                        'longitude': list(tourist_df['longitude']), 'day_of_travel': list(tourist_df['day_of_travel'])}\n",
    "\n",
    "            else:\n",
    "                return jsonify(['Nothing to roam here captain!'])\n",
    "\n",
    "        else:\n",
    "            return jsonify(['Error fetching API'])\n",
    "\n",
    "\n",
    "@app.route(f'/{TOKEN}', methods=['POST'])\n",
    "def respond():\n",
    "    # retrieve the message in JSON and then transform it to Telegram object\n",
    "    update = telegram.Update.de_json(request.get_json(force=True), bot)\n",
    "    # get the chat_id to be able to respond to the same user\n",
    "    chat_id = update.message.chat.id\n",
    "    # get the message id to be able to reply to this specific message\n",
    "    msg_id = update.message.message_id\n",
    "    # Telegram understands UTF-8, so encode text for unicode compatibility\n",
    "    text = update.message.text.encode('utf-8').decode()\n",
    "    print(\"got text message :\", text)\n",
    "    # here we call our super AI\n",
    "    response = get_response(text)\n",
    "    if type(response) != type(dict({})):\n",
    "        bot.sendMessage(chat_id=chat_id, text=response, reply_to_message_id=msg_id)\n",
    "        return 'OK'\n",
    "    else:\n",
    "        response_final = get_location_attributes(response['location'])\n",
    "        number_of_days = int(response['days'])\n",
    "        if type(response_final) != type(dict({})):\n",
    "            bot.sendMessage(chat_id=chat_id, text=str(response_final), reply_to_message_id=msg_id)\n",
    "            return 'OK'\n",
    "        else:\n",
    "            coordinate_dict = response_final['Response']['View'][0]['Result'][0]['Location'][\"NavigationPosition\"][0]\n",
    "            latitude, longitude = coordinate_dict['Latitude'], coordinate_dict['Longitude']\n",
    "            location_response = requests.get(\n",
    "                f'https://places.ls.hereapi.com/places/v1/discover/search?at={latitude},{longitude}&r=100000&q'\n",
    "                f'=Landmark/Attraction&apiKey={secret_key}')\n",
    "            \n",
    "            with open('outputfile.json', 'wb') as outf:\n",
    "                outf.write(location_response.content)\n",
    "\n",
    "            if location_response.status_code == 200:\n",
    "                if len(location_response.json()['results']['items']) > 0:\n",
    "                    tourist_data = location_response.json()\n",
    "                    tourist_dict = {'title': [], 'latitude': [], 'longitude': []}\n",
    "                    for i in range(len(tourist_data['results']['items'])):\n",
    "                        tourist_dict['title'].append(tourist_data['results']['items'][i]['title'])\n",
    "                        tourist_dict['latitude'].append(tourist_data['results']['items'][i]['position'][0])\n",
    "                        tourist_dict['longitude'].append(tourist_data['results']['items'][i]['position'][1])\n",
    "                    tourist_df = pd.DataFrame(tourist_dict)\n",
    "                    day_of_travel = fit_and_inference(tourist_df, number_of_days)\n",
    "                    tourist_df['day_of_travel'] = day_of_travel\n",
    "                    # print(tourist_df)\n",
    "                    # response = str({'title': list(tourist_df['title']), 'latitude': list(tourist_df['latitude']),\n",
    "                    #               'longitude': list(tourist_df['longitude']),\n",
    "                    #                'day_of_travel': list(tourist_df['day_of_travel'])})\n",
    "                    tourist_df.sort_values(by='day_of_travel', inplace=True, axis=0)\n",
    "                    response = ''.join(f\"Place:{tourist_df['title'].iloc[i]} \\t Day: {tourist_df['day_of_travel'].iloc[i]}\\n\"\n",
    "                                       for i in range(len(tourist_df)))\n",
    "\n",
    "                    bot.sendMessage(chat_id=chat_id, text=str(response), reply_to_message_id=msg_id)\n",
    "                    return 'OK'\n",
    "\n",
    "                else:\n",
    "                    bot.sendMessage(chat_id=chat_id, text='Nothing to roam here captain!', reply_to_message_id=msg_id)\n",
    "                    return 'OK'\n",
    "\n",
    "            else:\n",
    "                bot.sendMessage(chat_id=chat_id, text='Sorry we faced an error in API', reply_to_message_id=msg_id)\n",
    "                return 'OK'\n",
    "\n",
    "\n",
    "@app.route('/setwebhook', methods=['GET', 'POST'])\n",
    "def set_webhook():\n",
    "    # we use the bot object to link the bot to our app which live\n",
    "    # in the link provided by URL\n",
    "    s = bot.setWebhook('{URL}{HOOK}'.format(URL=URL, HOOK=TOKEN))\n",
    "    # something to let us know things work\n",
    "    if s:\n",
    "        return \"Webhook setup ok\"\n",
    "    else:\n",
    "        return \"Webhook setup failed\""
   ]
  },
  {
   "cell_type": "code",
   "execution_count": 6,
   "metadata": {},
   "outputs": [
    {
     "data": {
      "text/plain": [
       "<module 'apikey' from 'c:\\\\Users\\\\Dewi\\\\anaconda3\\\\envs\\\\learn\\\\lib\\\\site-packages\\\\apikey\\\\__init__.py'>"
      ]
     },
     "execution_count": 6,
     "metadata": {},
     "output_type": "execute_result"
    }
   ],
   "source": [
    "apikey"
   ]
  },
  {
   "cell_type": "code",
   "execution_count": 8,
   "metadata": {},
   "outputs": [],
   "source": [
    "x = apikey.save(\"service1\", \"supersecret\")"
   ]
  },
  {
   "cell_type": "code",
   "execution_count": 9,
   "metadata": {},
   "outputs": [],
   "source": [
    "x"
   ]
  },
  {
   "cell_type": "code",
   "execution_count": 10,
   "metadata": {},
   "outputs": [],
   "source": [
    "key1 = apikey.load(\"service1\")"
   ]
  },
  {
   "cell_type": "code",
   "execution_count": 11,
   "metadata": {},
   "outputs": [
    {
     "data": {
      "text/plain": [
       "'supersecret'"
      ]
     },
     "execution_count": 11,
     "metadata": {},
     "output_type": "execute_result"
    }
   ],
   "source": [
    "key1"
   ]
  },
  {
   "cell_type": "code",
   "execution_count": null,
   "metadata": {},
   "outputs": [],
   "source": []
  }
 ],
 "metadata": {
  "kernelspec": {
   "display_name": "Python 3.7.11 ('base')",
   "language": "python",
   "name": "python3"
  },
  "language_info": {
   "codemirror_mode": {
    "name": "ipython",
    "version": 3
   },
   "file_extension": ".py",
   "mimetype": "text/x-python",
   "name": "python",
   "nbconvert_exporter": "python",
   "pygments_lexer": "ipython3",
   "version": "3.7.11"
  },
  "orig_nbformat": 4,
  "vscode": {
   "interpreter": {
    "hash": "8cdc022899d039ccc9d2e042d68867fc93489d14d4a7982f7c8f0c8a6c409eb3"
   }
  }
 },
 "nbformat": 4,
 "nbformat_minor": 2
}
