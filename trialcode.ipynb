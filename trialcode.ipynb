{
 "cells": [
  {
   "cell_type": "code",
   "execution_count": 1,
   "metadata": {},
   "outputs": [],
   "source": [
    "from flask import Flask, request, jsonify,render_template\n",
    "import requests\n",
    "#import apikey\n",
    "import secrets\n",
    "from flask_cors import CORS, cross_origin\n",
    "import pandas as pd\n",
    "from sklearn.cluster import MiniBatchKMeans\n",
    "from telegram.bot import Bot\n",
    "import telegram\n",
    "import numpy as np\n",
    "from telebot.credentials import bot_token, bot_user_name, URL\n",
    "from telebot.mastermind import get_response\n",
    "\n",
    "app = Flask(__name__)\n",
    "CORS(app, support_credentials=True)\n",
    "app.config[\"DEBUG\"] = True\n",
    "secret_key = '-El8D1HjO-9DXOtEIz9s08h4qPYdqOjq8xKhG1PDVYA'\n",
    "#secret_key = apikey()\n",
    "\n",
    "global bot\n",
    "global TOKEN\n",
    "\n",
    "TOKEN = bot_token\n",
    "bot = Bot(token=TOKEN)\n",
    "\n",
    "\n",
    "def get_location_attributes(location):\n",
    "    response = requests.get(\n",
    "        f'https://geocoder.ls.hereapi.com/6.2/geocode.json?searchtext={location}&gen=9&apiKey={secret_key}')\n",
    "    if response.status_code == 200:\n",
    "        if len(response.json()['Response']['View']) != 0:\n",
    "            return response.json()\n",
    "        else:\n",
    "            return 'No such location found'\n",
    "    else:\n",
    "        return 'Something went wrong'"
   ]
  },
  {
   "cell_type": "code",
   "execution_count": 3,
   "metadata": {},
   "outputs": [
    {
     "data": {
      "text/plain": [
       "{'Response': {'MetaInfo': {'Timestamp': '2022-10-27T15:39:58.045+0000'},\n",
       "  'View': [{'_type': 'SearchResultsViewType',\n",
       "    'ViewId': 0,\n",
       "    'Result': [{'Relevance': 1.0,\n",
       "      'MatchLevel': 'city',\n",
       "      'MatchQuality': {'City': 1.0},\n",
       "      'Location': {'LocationId': 'NT_xwh4TEsjFzMbm1XDJmDcWC',\n",
       "       'LocationType': 'area',\n",
       "       'DisplayPosition': {'Latitude': -6.17148, 'Longitude': 106.82649},\n",
       "       'NavigationPosition': [{'Latitude': -6.17148, 'Longitude': 106.82649}],\n",
       "       'MapView': {'TopLeft': {'Latitude': -6.09878, 'Longitude': 106.68804},\n",
       "        'BottomRight': {'Latitude': -6.36871, 'Longitude': 106.95962}},\n",
       "       'Address': {'Label': 'Jakarta, Indonesia',\n",
       "        'Country': 'IDN',\n",
       "        'County': 'DKI Jakarta',\n",
       "        'City': 'Jakarta',\n",
       "        'PostalCode': '10110',\n",
       "        'AdditionalData': [{'value': 'Indonesia', 'key': 'CountryName'},\n",
       "         {'value': 'DKI Jakarta', 'key': 'CountyName'}]}}}]}]}}"
      ]
     },
     "execution_count": 3,
     "metadata": {},
     "output_type": "execute_result"
    }
   ],
   "source": [
    "location = 'jakarta'\n",
    "get_location_attributes(location)"
   ]
  },
  {
   "cell_type": "code",
   "execution_count": null,
   "metadata": {},
   "outputs": [],
   "source": []
  }
 ],
 "metadata": {
  "kernelspec": {
   "display_name": "Python 3.7.11 ('learn')",
   "language": "python",
   "name": "python3"
  },
  "language_info": {
   "codemirror_mode": {
    "name": "ipython",
    "version": 3
   },
   "file_extension": ".py",
   "mimetype": "text/x-python",
   "name": "python",
   "nbconvert_exporter": "python",
   "pygments_lexer": "ipython3",
   "version": "3.7.11"
  },
  "orig_nbformat": 4,
  "vscode": {
   "interpreter": {
    "hash": "8cdc022899d039ccc9d2e042d68867fc93489d14d4a7982f7c8f0c8a6c409eb3"
   }
  }
 },
 "nbformat": 4,
 "nbformat_minor": 2
}
